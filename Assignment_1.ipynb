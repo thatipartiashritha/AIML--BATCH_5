{
  "nbformat": 4,
  "nbformat_minor": 0,
  "metadata": {
    "colab": {
      "provenance": [],
      "authorship_tag": "ABX9TyME4vVV20BAcl8jj0kT+mab",
      "include_colab_link": true
    },
    "kernelspec": {
      "name": "python3",
      "display_name": "Python 3"
    },
    "language_info": {
      "name": "python"
    }
  },
  "cells": [
    {
      "cell_type": "markdown",
      "metadata": {
        "id": "view-in-github",
        "colab_type": "text"
      },
      "source": [
        "<a href=\"https://colab.research.google.com/github/thatipartiashritha/AIML--BATCH_5/blob/main/Assignment_1.ipynb\" target=\"_parent\"><img src=\"https://colab.research.google.com/assets/colab-badge.svg\" alt=\"Open In Colab\"/></a>"
      ]
    },
    {
      "cell_type": "markdown",
      "source": [
        "implement basic data structures with numpy,or pandas\n",
        "1.list"
      ],
      "metadata": {
        "id": "ZKcoVRfLKBqs"
      }
    },
    {
      "cell_type": "markdown",
      "source": [
        "assignment 1 part-1\n",
        "lists:"
      ],
      "metadata": {
        "id": "N3WyxpJFbKKZ"
      }
    },
    {
      "cell_type": "code",
      "source": [
        "import numpy as np\n",
        "\n",
        "list = np.array([1, 2, 3, 4, 5])\n",
        "print(list)"
      ],
      "metadata": {
        "colab": {
          "base_uri": "https://localhost:8080/"
        },
        "id": "DMPnF2O0aXus",
        "outputId": "3467d2ce-f5a6-4e07-f6a2-2ce63a3d128b"
      },
      "execution_count": null,
      "outputs": [
        {
          "output_type": "stream",
          "name": "stdout",
          "text": [
            "[1 2 3 4 5]\n"
          ]
        }
      ]
    },
    {
      "cell_type": "markdown",
      "source": [
        "arrays:"
      ],
      "metadata": {
        "id": "bAHZW3krcCMQ"
      }
    },
    {
      "cell_type": "code",
      "source": [
        "import numpy as np\n",
        "\n",
        "# Creating a NumPy array from a list\n",
        "numpy_array = np.array([1, 2, 3, 4, 5])\n",
        "print(\"NumPy Array:\", numpy_array)"
      ],
      "metadata": {
        "colab": {
          "base_uri": "https://localhost:8080/"
        },
        "id": "gEj8UnliaX23",
        "outputId": "2239228f-241d-4a3a-edf5-3c1819cdcd97"
      },
      "execution_count": null,
      "outputs": [
        {
          "output_type": "stream",
          "name": "stdout",
          "text": [
            "NumPy Array: [1 2 3 4 5]\n"
          ]
        }
      ]
    },
    {
      "cell_type": "markdown",
      "source": [
        "pandas"
      ],
      "metadata": {
        "id": "k5SWSUvncdoK"
      }
    },
    {
      "cell_type": "code",
      "source": [
        "import pandas as pd\n",
        "\n",
        "# Creating a DataFrame from a list\n",
        "data = {'Column1': [1, 2, 3, 4, 5],\n",
        "        'Column2': ['A', 'B', 'C', 'D', 'E']}\n",
        "df = pd.DataFrame(data)\n",
        "\n",
        "print(\"DataFrame:\")\n",
        "print(df)"
      ],
      "metadata": {
        "colab": {
          "base_uri": "https://localhost:8080/"
        },
        "id": "OLeg_7IYcfl9",
        "outputId": "07a3146e-bbed-4c11-9e78-9812588b87fd"
      },
      "execution_count": null,
      "outputs": [
        {
          "output_type": "stream",
          "name": "stdout",
          "text": [
            "DataFrame:\n",
            "   Column1 Column2\n",
            "0        1       A\n",
            "1        2       B\n",
            "2        3       C\n",
            "3        4       D\n",
            "4        5       E\n"
          ]
        }
      ]
    },
    {
      "cell_type": "markdown",
      "source": [
        "type()"
      ],
      "metadata": {
        "id": "7gxLUVobc3PU"
      }
    },
    {
      "cell_type": "code",
      "source": [
        "list=[1,2,3,4,5]\n",
        "print(type(list))"
      ],
      "metadata": {
        "colab": {
          "base_uri": "https://localhost:8080/"
        },
        "id": "YxIt8yhOc4vL",
        "outputId": "d84ea3dc-907f-4b39-ea40-aab08ba4d44b"
      },
      "execution_count": null,
      "outputs": [
        {
          "output_type": "stream",
          "name": "stdout",
          "text": [
            "<class 'list'>\n"
          ]
        }
      ]
    },
    {
      "cell_type": "markdown",
      "source": [],
      "metadata": {
        "id": "O7X9E8NZNYxn"
      }
    },
    {
      "cell_type": "code",
      "source": [
        "a=True\n",
        "print(type(a))"
      ],
      "metadata": {
        "colab": {
          "base_uri": "https://localhost:8080/"
        },
        "id": "bKDzUHlgdB78",
        "outputId": "07837877-76bd-48a9-c378-8ac0b7a27170"
      },
      "execution_count": null,
      "outputs": [
        {
          "output_type": "stream",
          "name": "stdout",
          "text": [
            "<class 'bool'>\n"
          ]
        }
      ]
    },
    {
      "cell_type": "code",
      "source": [
        "a=9.5\n",
        "print(type(a))"
      ],
      "metadata": {
        "colab": {
          "base_uri": "https://localhost:8080/"
        },
        "id": "iErxEQkgdLx2",
        "outputId": "1022abd9-92c7-451e-a9eb-66cda1640d01"
      },
      "execution_count": null,
      "outputs": [
        {
          "output_type": "stream",
          "name": "stdout",
          "text": [
            "<class 'float'>\n"
          ]
        }
      ]
    },
    {
      "cell_type": "code",
      "source": [
        "b='ashritha'\n",
        "print(type(b))"
      ],
      "metadata": {
        "colab": {
          "base_uri": "https://localhost:8080/"
        },
        "id": "dmTYdHXDdTdy",
        "outputId": "4e126efc-1e97-406d-a15e-0aa4ee4d86fc"
      },
      "execution_count": null,
      "outputs": [
        {
          "output_type": "stream",
          "name": "stdout",
          "text": [
            "<class 'str'>\n"
          ]
        }
      ]
    },
    {
      "cell_type": "code",
      "source": [
        "c=5\n",
        "print(type(c))"
      ],
      "metadata": {
        "colab": {
          "base_uri": "https://localhost:8080/"
        },
        "id": "qOgIN5PAdiAZ",
        "outputId": "2834f600-aa2f-4286-f656-5702653b1f93"
      },
      "execution_count": null,
      "outputs": [
        {
          "output_type": "stream",
          "name": "stdout",
          "text": [
            "<class 'int'>\n"
          ]
        }
      ]
    },
    {
      "cell_type": "markdown",
      "source": [
        "multiplication of two arrays"
      ],
      "metadata": {
        "id": "BA4hZaxndm2W"
      }
    },
    {
      "cell_type": "code",
      "source": [
        "import numpy as np\n",
        "\n",
        "# Creating two NumPy arrays\n",
        "array1 = np.array([1, 2, 3, 4, 5])\n",
        "array2 = np.array([10, 20, 30, 40, 50])\n",
        "\n",
        "# Method 1: Using numpy.multiply()\n",
        "result_multiply = np.multiply(array1, array2)\n",
        "print(\"Result using numpy.multiply():\", result_multiply)\n",
        "\n",
        "# Method 2: Using the * operator\n",
        "result_operator = array1 * array2\n",
        "print(\"Result using * operator:\", result_operator)"
      ],
      "metadata": {
        "colab": {
          "base_uri": "https://localhost:8080/"
        },
        "id": "tLeHphgXdmW2",
        "outputId": "8f23f4cc-d8e0-44a9-85e7-a51a0c85f625"
      },
      "execution_count": null,
      "outputs": [
        {
          "output_type": "stream",
          "name": "stdout",
          "text": [
            "Result using numpy.multiply(): [ 10  40  90 160 250]\n",
            "Result using * operator: [ 10  40  90 160 250]\n"
          ]
        }
      ]
    },
    {
      "cell_type": "markdown",
      "source": [
        "division of two arrays"
      ],
      "metadata": {
        "id": "hbg1rqf0dxwZ"
      }
    },
    {
      "cell_type": "code",
      "source": [
        "import numpy as np\n",
        "\n",
        "# Creating two NumPy arrays\n",
        "array1 = np.array([10, 20, 30, 40, 50])\n",
        "array2 = np.array([2, 4, 5, 8, 10])\n",
        "\n",
        "# Method 1: Using numpy.divide()\n",
        "result_divide = np.divide(array1, array2)\n",
        "print(\"Result using numpy.divide():\", result_divide)\n",
        "\n",
        "# Method 2: Using the / operator\n",
        "result_operator = array1 / array2\n",
        "print(\"Result using / operator:\", result_operator)"
      ],
      "metadata": {
        "colab": {
          "base_uri": "https://localhost:8080/"
        },
        "id": "efqQNUFod0pW",
        "outputId": "aa7a0a2e-d575-4624-a5e3-dc3cfa9ab528"
      },
      "execution_count": null,
      "outputs": [
        {
          "output_type": "stream",
          "name": "stdout",
          "text": [
            "Result using numpy.divide(): [5. 5. 6. 5. 5.]\n",
            "Result using / operator: [5. 5. 6. 5. 5.]\n"
          ]
        }
      ]
    },
    {
      "cell_type": "markdown",
      "source": [
        "poweroff"
      ],
      "metadata": {
        "id": "JGa5-yrtd6US"
      }
    },
    {
      "cell_type": "code",
      "source": [
        "import numpy as np\n",
        "array1 = np.array([2, 3, 4])\n",
        "array2 = np.array([3, 2, 1])\n",
        "result_array = np.power(array1, array2)\n",
        "output_text = f\"Power of Two Arrays:\\narray1 ** array2 in python\\n\\n\"\n",
        "output_text += f\"Array 1: {array1}\\n\"\n",
        "output_text += f\"Array 2: {array2}\\n\"\n",
        "output_text += f\"Result: {result_array}\"\n",
        "print(output_text)"
      ],
      "metadata": {
        "colab": {
          "base_uri": "https://localhost:8080/"
        },
        "id": "MYoi_wPsd8NX",
        "outputId": "541ff57e-a3cb-4a40-d531-c5d8b96d1eee"
      },
      "execution_count": null,
      "outputs": [
        {
          "output_type": "stream",
          "name": "stdout",
          "text": [
            "Power of Two Arrays:\n",
            "array1 ** array2 in python\n",
            "\n",
            "Array 1: [2 3 4]\n",
            "Array 2: [3 2 1]\n",
            "Result: [8 9 4]\n"
          ]
        }
      ]
    },
    {
      "cell_type": "markdown",
      "source": [
        "addition of two arrays"
      ],
      "metadata": {
        "id": "L6vnv_s3eKjo"
      }
    },
    {
      "cell_type": "code",
      "source": [
        "import numpy as np\n",
        "array1 = np.array([1, 2, 3])\n",
        "array2 = np.array([4, 5, 6])\n",
        "result_array = array1 + array2\n",
        "output_text = f\"Addition of Two Arrays:\\narray1 + array2 in python\\n\\n\"\n",
        "output_text += f\"Array 1: {array1}\\n\"\n",
        "output_text += f\"Array 2: {array2}\\n\"\n",
        "output_text += f\"Result: {result_array}\"\n",
        "print(output_text)"
      ],
      "metadata": {
        "colab": {
          "base_uri": "https://localhost:8080/"
        },
        "id": "SMTWR2kSeNez",
        "outputId": "83a2a4d8-050e-4241-aa96-1ba0493deb92"
      },
      "execution_count": null,
      "outputs": [
        {
          "output_type": "stream",
          "name": "stdout",
          "text": [
            "Addition of Two Arrays:\n",
            "array1 + array2 in python\n",
            "\n",
            "Array 1: [1 2 3]\n",
            "Array 2: [4 5 6]\n",
            "Result: [5 7 9]\n"
          ]
        }
      ]
    },
    {
      "cell_type": "markdown",
      "source": [
        "question 6.implementation"
      ],
      "metadata": {
        "id": "L0DhvCh8eReb"
      }
    },
    {
      "cell_type": "code",
      "source": [
        "import numpy as np\n",
        "\n",
        "# Create a NumPy array\n",
        "my_array = np.array([1, 2, 3])\n",
        "\n",
        "# Compute sine using np.sin()\n",
        "result_sin = np.sin(my_array)\n",
        "\n",
        "# Compute natural logarithm using np.log()\n",
        "result_log = np.log(my_array)\n",
        "\n",
        "# Compute base-2 logarithm using np.log2()\n",
        "result_log2 = np.log2(my_array)\n",
        "\n",
        "# Compute exponential using np.exp()\n",
        "result_exp = np.exp(my_array)\n",
        "\n",
        "# Generate a textual output\n",
        "output_text = f\"NumPy Mathematical Functions:\\n\\n\"\n",
        "output_text += f\"Input Array: {my_array}\\n\\n\"\n",
        "output_text += f\"Sine Result: {result_sin}\\n\"\n",
        "output_text += f\"Natural Logarithm Result: {result_log}\\n\"\n",
        "output_text += f\"Base-2 Logarithm Result: {result_log2}\\n\"\n",
        "output_text += f\"Exponential Result: {result_exp}\"\n",
        "\n",
        "# Print the output\n",
        "print(output_text)"
      ],
      "metadata": {
        "colab": {
          "base_uri": "https://localhost:8080/"
        },
        "id": "hK9tOWdseZdG",
        "outputId": "53af6e3d-05a9-4d7a-a741-c7aedf668a7f"
      },
      "execution_count": null,
      "outputs": [
        {
          "output_type": "stream",
          "name": "stdout",
          "text": [
            "NumPy Mathematical Functions:\n",
            "\n",
            "Input Array: [1 2 3]\n",
            "\n",
            "Sine Result: [0.84147098 0.90929743 0.14112001]\n",
            "Natural Logarithm Result: [0.         0.69314718 1.09861229]\n",
            "Base-2 Logarithm Result: [0.        1.        1.5849625]\n",
            "Exponential Result: [ 2.71828183  7.3890561  20.08553692]\n"
          ]
        }
      ]
    },
    {
      "cell_type": "markdown",
      "source": [
        "part2:dataset"
      ],
      "metadata": {
        "id": "pLp9l3b5f-76"
      }
    },
    {
      "cell_type": "code",
      "source": [
        "import pandas as pd\n",
        "\n",
        "# Define data\n",
        "people = ['kiran', 'arun', 'vijay', 'varun']\n",
        "age = [25, 30, 35, 40]\n",
        "height = [145, 151, 165, 173]\n",
        "weight = [45, 55, 65, 75]\n",
        "\n",
        "# Create DataFrame\n",
        "health_data = pd.DataFrame({'Person': people, 'Age': age, 'Height': height, 'Weight': weight})\n",
        "\n",
        "print(health_data)\n"
      ],
      "metadata": {
        "colab": {
          "base_uri": "https://localhost:8080/"
        },
        "id": "_8_nkjyDgEp3",
        "outputId": "4e214ef0-6a52-466a-81e4-46fcde6d5bf0"
      },
      "execution_count": null,
      "outputs": [
        {
          "output_type": "stream",
          "name": "stdout",
          "text": [
            "  Person  Age  Height  Weight\n",
            "0  kiran   25     145      45\n",
            "1   arun   30     151      55\n",
            "2  vijay   35     165      65\n",
            "3  varun   40     173      75\n"
          ]
        }
      ]
    },
    {
      "cell_type": "markdown",
      "source": [
        "part 2: question 2:"
      ],
      "metadata": {
        "id": "PC0GBvKugVkv"
      }
    },
    {
      "cell_type": "code",
      "source": [
        "import matplotlib.pyplot as plt\n",
        "\n",
        "# Scatter plot\n",
        "plt.figure(figsize=(8, 6))\n",
        "plt.scatter(health_data['Age'], health_data['Height'], color='blue', label='Height')\n",
        "plt.scatter(health_data['Age'], health_data['Weight'], color='red', label='Weight')\n",
        "plt.title('Health Care Data - Scatter Plot')\n",
        "plt.xlabel('Age')\n",
        "plt.ylabel('Height/Weight')\n",
        "plt.legend()\n",
        "plt.grid(True)\n",
        "plt.show()\n"
      ],
      "metadata": {
        "colab": {
          "base_uri": "https://localhost:8080/",
          "height": 564
        },
        "id": "nMMq-Ej8gYNA",
        "outputId": "befeba3a-8ef9-465b-f1ca-2205b806e534"
      },
      "execution_count": null,
      "outputs": [
        {
          "output_type": "display_data",
          "data": {
            "text/plain": [
              "<Figure size 800x600 with 1 Axes>"
            ],
            "image/png": "[encoded data removed]"
          },
          "metadata": {}
        }
      ]
    },
    {
      "cell_type": "markdown",
      "source": [
        "3.scatter plot"
      ],
      "metadata": {
        "id": "I3P_vANwgiWr"
      }
    },
    {
      "cell_type": "code",
      "source": [
        "import matplotlib.pyplot as plt\n",
        "\n",
        "# Scatter plot\n",
        "plt.figure(figsize=(8, 6))\n",
        "plt.scatter(health_data['Age'], health_data['Height'], color='blue', label='Height')\n",
        "plt.scatter(health_data['Age'], health_data['Weight'], color='red', label='Weight')\n",
        "plt.title('Health Care Data - Scatter Plot')\n",
        "plt.xlabel('Age')\n",
        "plt.ylabel('Height/Weight')\n",
        "plt.legend()\n",
        "plt.grid(True)\n",
        "plt.show()\n"
      ],
      "metadata": {
        "colab": {
          "base_uri": "https://localhost:8080/",
          "height": 564
        },
        "id": "z370cnRBglX7",
        "outputId": "8d02cfc6-32f7-4b95-bffd-6016f4999375"
      },
      "execution_count": null,
      "outputs": [
        {
          "output_type": "display_data",
          "data": {
            "text/plain": [
              "<Figure size 800x600 with 1 Axes>"
            ],
            "image/png": "[encoded data removed]"
          },
          "metadata": {}
        }
      ]
    },
    {
      "cell_type": "markdown",
      "source": [
        "4.bar chart"
      ],
      "metadata": {
        "id": "I-MllDODgoQz"
      }
    },
    {
      "cell_type": "code",
      "source": [
        "import matplotlib.pyplot as plt\n",
        "\n",
        "# Scatter plot\n",
        "plt.figure(figsize=(8, 6))\n",
        "plt.scatter(health_data['Age'], health_data['Height'], color='blue', label='Height')\n",
        "plt.scatter(health_data['Age'], health_data['Weight'], color='red', label='Weight')\n",
        "plt.title('Health Care Data - Scatter Plot')\n",
        "plt.xlabel('Age')\n",
        "plt.ylabel('Height/Weight')\n",
        "plt.legend()\n",
        "plt.grid(True)\n",
        "plt.show()\n"
      ],
      "metadata": {
        "colab": {
          "base_uri": "https://localhost:8080/",
          "height": 564
        },
        "id": "eUkvC_e_gsWz",
        "outputId": "57636ef5-b010-46e6-dfbe-ea2fdd26f07d"
      },
      "execution_count": null,
      "outputs": [
        {
          "output_type": "display_data",
          "data": {
            "text/plain": [
              "<Figure size 800x600 with 1 Axes>"
            ],
            "image/png": "[encoded data removed]"
          },
          "metadata": {}
        }
      ]
    },
    {
      "cell_type": "markdown",
      "source": [
        "5.histogram for weight"
      ],
      "metadata": {
        "id": "OsESgHwWjHMD"
      }
    },
    {
      "cell_type": "code",
      "source": [
        "#for weight\n",
        "import matplotlib.pyplot as plt\n",
        "\n",
        "people = ['kiran', 'arun', 'vijay', 'varun']\n",
        "age = [25, 30, 35, 40, 45]\n",
        "weight=[45, 55, 65, 75]\n",
        "\n",
        "plt.figure(figsize=(5, 3))\n",
        "plt.hist(age[:-1], bins=age, weights=weight, edgecolor='black', alpha=0.7)\n",
        "plt.xlabel('Age')\n",
        "plt.ylabel('weight')\n",
        "plt.grid(axis='y', linestyle='--', alpha=0.7)\n",
        "\n",
        "plt.show()"
      ],
      "metadata": {
        "colab": {
          "base_uri": "https://localhost:8080/",
          "height": 311
        },
        "id": "ew7Qi4NhjQdr",
        "outputId": "7a779229-8971-408a-fb2e-330b41fa4449"
      },
      "execution_count": null,
      "outputs": [
        {
          "output_type": "display_data",
          "data": {
            "text/plain": [
              "<Figure size 500x300 with 1 Axes>"
            ],
            "image/png": "[encoded data removed]"
          },
          "metadata": {}
        }
      ]
    },
    {
      "cell_type": "markdown",
      "source": [
        "5.histogram for heights"
      ],
      "metadata": {
        "id": "NeKn9J_YjU1D"
      }
    },
    {
      "cell_type": "code",
      "source": [
        "#for heights\n",
        "import matplotlib.pyplot as plt\n",
        "\n",
        "people = ['kiran', 'arun', 'vijay', 'varun']\n",
        "age = [25, 30, 35, 40, 45]\n",
        "height = [145, 151, 165, 173]\n",
        "\n",
        "plt.figure(figsize=(5, 3))\n",
        "plt.hist(age[:-1], bins=age, weights=height, edgecolor='black', alpha=0.7)\n",
        "plt.xlabel('Age')\n",
        "plt.ylabel('Height')\n",
        "plt.grid(axis='y', linestyle='--', alpha=0.7)\n",
        "\n",
        "plt.show()"
      ],
      "metadata": {
        "colab": {
          "base_uri": "https://localhost:8080/",
          "height": 311
        },
        "id": "UF5Tz90pjYld",
        "outputId": "638c718c-f0d5-4984-fc50-a6d66ee2effd"
      },
      "execution_count": null,
      "outputs": [
        {
          "output_type": "display_data",
          "data": {
            "text/plain": [
              "<Figure size 500x300 with 1 Axes>"
            ],
            "image/png": "[encoded data removed]"
          },
          "metadata": {}
        }
      ]
    }
  ]
}